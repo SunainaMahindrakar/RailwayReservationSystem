{
 "cells": [
  {
   "cell_type": "code",
   "execution_count": 1,
   "id": "4ab6b428",
   "metadata": {},
   "outputs": [
    {
     "data": {
      "text/plain": [
       "Collection(Database(MongoClient(host=['localhost:27017'], document_class=dict, tz_aware=False, connect=True), 'railway_reservation_system'), 'management')"
      ]
     },
     "execution_count": 1,
     "metadata": {},
     "output_type": "execute_result"
    }
   ],
   "source": [
    "import pymongo\n",
    "\n",
    "# Create a MongoDB client\n",
    "client = pymongo.MongoClient(\"mongodb://localhost:27017/\")\n",
    "\n",
    "# Create the database\n",
    "db = client[\"railway_reservation_system\"]\n",
    "\n",
    "# Create the collections\n",
    "customers = db[\"customers\"]\n",
    "trains = db[\"trains\"]\n",
    "routes = db[\"routes\"]\n",
    "employees = db[\"employees\"]\n",
    "management = db[\"management\"]\n",
    "stations = db[\"stations\"]\n",
    "tickets = db[\"tickets\"]\n",
    "fares = db[\"fares\"]\n",
    "schedules = db[\"schedules\"]\n",
    "\n",
    "# Define the schema for the collections\n",
    "customer_schema = {\n",
    "    \"customer_id\": int,\n",
    "    \"name\": str,\n",
    "    \"email\": str,\n",
    "    \"phone_number\": str,\n",
    "    \"address\": str\n",
    "}\n",
    "\n",
    "train_schema = {\n",
    "    \"trainid\": int,\n",
    "    \"type\": str,\n",
    "    \"name\": str,\n",
    "    \"seats\": int\n",
    "}\n",
    "\n",
    "route_schema = {\n",
    "    \"route_id\": int,\n",
    "    \"trainid\": int,\n",
    "    \"from_station\": str,\n",
    "    \"to_station\": str,\n",
    "    \"distance\": int\n",
    "}\n",
    "\n",
    "employee_schema = {\n",
    "    \"employee_id\": int,\n",
    "    \"name\": str,\n",
    "    \"address\": str,\n",
    "    \"phone\": str,\n",
    "    \"salary\": float\n",
    "}\n",
    "\n",
    "management_schema = {\n",
    "    \"management_id\": int,\n",
    "    \"employee_id\": int,\n",
    "    \"name\": str,\n",
    "    \"email\": str,\n",
    "    \"phone_number\": str,\n",
    "    \"address\": str\n",
    "}\n",
    "\n",
    "station_schema = {\n",
    "    \"station_id\": int,\n",
    "    \"route_id\": int,\n",
    "    \"name\": str,\n",
    "    \"location\": str,\n",
    "    \"code\": str\n",
    "}\n",
    "\n",
    "ticket_schema = {\n",
    "    \"ticket_id\": int,\n",
    "    \"trainid\": int,\n",
    "    \"class\": str,\n",
    "    \"departure_date\": str,\n",
    "    \"customer_id\": int\n",
    "}\n",
    "\n",
    "fare_schema = {\n",
    "    \"fare_id\": int,\n",
    "    \"ticket_id\": int,\n",
    "    \"class\": str\n",
    "}\n",
    "\n",
    "schedule_schema = {\n",
    "    \"schedule_id\": int,\n",
    "    \"management_id\": int,\n",
    "    \"trainid\": int,\n",
    "    \"departure_time\": str,\n",
    "    \"arrival_time\": str\n",
    "}\n",
    "\n",
    "# Set up the references between the collections\n",
    "routes.create_index([(\"trainid\", pymongo.ASCENDING)])\n",
    "stations.create_index([(\"route_id\", pymongo.ASCENDING)])\n",
    "tickets.create_index([(\"trainid\", pymongo.ASCENDING)])\n",
    "tickets.create_index([(\"customer_id\", pymongo.ASCENDING)])\n",
    "fares.create_index([(\"ticket_id\", pymongo.ASCENDING)])\n",
    "schedules.create_index([(\"management_id\", pymongo.ASCENDING)])\n",
    "schedules.create_index([(\"trainid\", pymongo.ASCENDING)])\n",
    "\n",
    "# Insert example data into the collections\n",
    "customers.insert_one({\"customer_id\": 1, \"name\": \"John Doe\", \"email\": \"john@example.com\", \"phone_number\": \"123-456-7890\", \"address\": \"123 Main St\"})\n",
    "trains.insert_one({\"trainid\": 1, \"type\": \"Express\", \"name\": \"Express 1\", \"seats\": 100})\n",
    "routes.insert_one({\"route_id\": 1, \"trainid\": 1, \"from_station\": \"Station A\", \"to_station\": \"Station B\", \"distance\": 50})\n",
    "employees.insert_one({\"employee_id\": 1, \"name\": \"Jane Smith\", \"address\": \"456 Main St\", \"phone\": \"234-567-8901\", \"salary\": 50000.00})\n",
    "management\n"
   ]
  },
  {
   "cell_type": "code",
   "execution_count": 2,
   "id": "80b5e3e5",
   "metadata": {},
   "outputs": [
    {
     "data": {
      "text/plain": [
       "<pymongo.results.InsertOneResult at 0x7f840a13ce00>"
      ]
     },
     "execution_count": 2,
     "metadata": {},
     "output_type": "execute_result"
    }
   ],
   "source": [
    "customers.insert_one({\"customer_id\": 2, \"name\": \"Parag Jain\", \"email\": \"parag@example.com\", \"phone_number\": \"123-784-7891\", \"address\": \"123 Health St\"})\n"
   ]
  },
  {
   "cell_type": "code",
   "execution_count": 5,
   "id": "a5f602be",
   "metadata": {},
   "outputs": [],
   "source": [
    "from pymongo import MongoClient\n",
    "import random\n",
    "import string\n",
    "\n",
    "\n",
    "# generate dummy data for each schema\n",
    "for i in range(20):\n",
    "    # generate dummy data for customers\n",
    "    customer_data = {\n",
    "        \"customer_id\": i + 1,\n",
    "        \"name\": ''.join(random.choices(string.ascii_uppercase, k=5)),\n",
    "        \"email\": ''.join(random.choices(string.ascii_lowercase, k=5)) + \"@example.com\",\n",
    "        \"phone_number\": ''.join(random.choices(string.digits, k=10)),\n",
    "        \"address\": ''.join(random.choices(string.ascii_uppercase + string.digits, k=10))\n",
    "    }\n",
    "    customers.insert_one(customer_data)\n",
    "\n",
    "    # generate dummy data for trains\n",
    "    train_data = {\n",
    "        \"trainid\": i + 1,\n",
    "        \"type\": ''.join(random.choices([\"local\", \"express\"])),\n",
    "        \"name\": ''.join(random.choices(string.ascii_uppercase, k=5)),\n",
    "        \"seats\": random.randint(50, 100)\n",
    "    }\n",
    "    trains.insert_one(train_data)\n",
    "\n",
    "    # generate dummy data for routes\n",
    "    route_data = {\n",
    "        \"route_id\": i + 1,\n",
    "        \"trainid\": random.randint(1, 20),\n",
    "        \"from_station\": ''.join(random.choices(string.ascii_uppercase, k=5)),\n",
    "        \"to_station\": ''.join(random.choices(string.ascii_uppercase, k=5)),\n",
    "        \"distance\": random.randint(100, 500)\n",
    "    }\n",
    "    routes.insert_one(route_data)\n",
    "\n",
    "    "
   ]
  },
  {
   "cell_type": "code",
   "execution_count": 6,
   "id": "8b27fee5",
   "metadata": {},
   "outputs": [
    {
     "data": {
      "text/plain": [
       "<pymongo.results.InsertManyResult at 0x7f83e87bcec0>"
      ]
     },
     "execution_count": 6,
     "metadata": {},
     "output_type": "execute_result"
    }
   ],
   "source": [
    "\n",
    "employee_data = [\n",
    "    {\"employee_id\": 1, \"name\": \"John Doe\", \"address\": \"123 Main St\", \"phone\": \"555-1234\", \"salary\": 50000.0},\n",
    "    {\"employee_id\": 2, \"name\": \"Jane Smith\", \"address\": \"456 Oak Ave\", \"phone\": \"555-5678\", \"salary\": 60000.0},\n",
    "    {\"employee_id\": 3, \"name\": \"Bob Johnson\", \"address\": \"789 Elm St\", \"phone\": \"555-9012\", \"salary\": 55000.0},\n",
    "    {\"employee_id\": 4, \"name\": \"Alice Lee\", \"address\": \"321 Maple St\", \"phone\": \"555-3456\", \"salary\": 65000.0},\n",
    "    {\"employee_id\": 5, \"name\": \"David Kim\", \"address\": \"654 Pine St\", \"phone\": \"555-7890\", \"salary\": 70000.0}\n",
    "]\n",
    "db.employees.insert_many(employee_data)\n",
    "\n",
    "# management\n",
    "management_data = [\n",
    "    {\"management_id\": 1, \"employee_id\": 1, \"name\": \"John Doe\", \"email\": \"johndoe@example.com\", \"phone_number\": \"555-1234\", \"address\": \"123 Main St\"},\n",
    "    {\"management_id\": 2, \"employee_id\": 2, \"name\": \"Jane Smith\", \"email\": \"janesmith@example.com\", \"phone_number\": \"555-5678\", \"address\": \"456 Oak Ave\"},\n",
    "    {\"management_id\": 3, \"employee_id\": 3, \"name\": \"Bob Johnson\", \"email\": \"bobjohnson@example.com\", \"phone_number\": \"555-9012\", \"address\": \"789 Elm St\"},\n",
    "    {\"management_id\": 4, \"employee_id\": 4, \"name\": \"Alice Lee\", \"email\": \"alicelee@example.com\", \"phone_number\": \"555-3456\", \"address\": \"321 Maple St\"},\n",
    "    {\"management_id\": 5, \"employee_id\": 5, \"name\": \"David Kim\", \"email\": \"davidkim@example.com\", \"phone_number\": \"555-7890\", \"address\": \"654 Pine St\"}\n",
    "]\n",
    "db.management.insert_many(management_data)\n",
    "\n",
    "# station\n",
    "station_data = [\n",
    "    {\"station_id\": 1, \"route_id\": 1, \"name\": \"Station A\", \"location\": \"City X\", \"code\": \"AXY\"},\n",
    "    {\"station_id\": 2, \"route_id\": 1, \"name\": \"Station B\", \"location\": \"City Y\", \"code\": \"BYX\"},\n",
    "    {\"station_id\": 3, \"route_id\": 2, \"name\": \"Station C\", \"location\": \"City Z\", \"code\": \"CZY\"},\n",
    "    {\"station_id\": 4, \"route_id\": 2, \"name\": \"Station D\", \"location\": \"City X\", \"code\": \"DXZ\"},\n",
    "    {\"station_id\": 5, \"route_id\": 3, \"name\": \"Station E\", \"location\": \"City Y\", \"code\": \"EYX\"}\n",
    "]\n",
    "db.stations.insert_many(station_data)"
   ]
  },
  {
   "cell_type": "code",
   "execution_count": 10,
   "id": "49f684e3",
   "metadata": {},
   "outputs": [],
   "source": [
    "\n",
    "from datetime import datetime\n",
    "for i in range(5):\n",
    "    ticket = {\n",
    "        \"ticket_id\": i+1,\n",
    "        \"trainid\": random.randint(1, 10),\n",
    "        \"class\": random.choice(['Economy', 'Business', 'First']),\n",
    "        \"departure_date\": datetime.now().strftime(\"%Y-%m-%d\"),\n",
    "        \"customer_id\": random.randint(1, 20)\n",
    "    }\n",
    "    tickets.append(ticket)\n",
    "\n",
    "# Dummy data for fare_schema\n",
    "fares = []\n",
    "for i in range(5):\n",
    "    fare = {\n",
    "        \"fare_id\": i+1,\n",
    "        \"ticket_id\": i+1,\n",
    "        \"class\": random.choice(['Economy', 'Business', 'First'])\n",
    "    }\n",
    "    fares.append(fare)\n"
   ]
  },
  {
   "cell_type": "code",
   "execution_count": 12,
   "id": "8c2fcbba",
   "metadata": {},
   "outputs": [
    {
     "data": {
      "text/plain": [
       "<pymongo.results.InsertManyResult at 0x7f83e87c0d80>"
      ]
     },
     "execution_count": 12,
     "metadata": {},
     "output_type": "execute_result"
    }
   ],
   "source": [
    "dummy_data = [\n",
    "    {\n",
    "        \"schedule_id\": 1,\n",
    "        \"management_id\": 101,\n",
    "        \"trainid\": 1,\n",
    "        \"departure_time\": \"2022-05-01 08:00:00\",\n",
    "        \"arrival_time\": \"2022-05-01 16:00:00\"\n",
    "    },\n",
    "    {\n",
    "        \"schedule_id\": 2,\n",
    "        \"management_id\": 102,\n",
    "        \"trainid\": 2,\n",
    "        \"departure_time\": \"2022-05-02 10:00:00\",\n",
    "        \"arrival_time\": \"2022-05-02 20:00:00\"\n",
    "    },\n",
    "    {\n",
    "        \"schedule_id\": 3,\n",
    "        \"management_id\": 103,\n",
    "        \"trainid\": 3,\n",
    "        \"departure_time\": \"2022-05-03 12:00:00\",\n",
    "        \"arrival_time\": \"2022-05-03 22:00:00\"\n",
    "    },\n",
    "    {\n",
    "        \"schedule_id\": 4,\n",
    "        \"management_id\": 104,\n",
    "        \"trainid\": 4,\n",
    "        \"departure_time\": \"2022-05-04 14:00:00\",\n",
    "        \"arrival_time\": \"2022-05-04 23:00:00\"\n",
    "    },\n",
    "    {\n",
    "        \"schedule_id\": 5,\n",
    "        \"management_id\": 105,\n",
    "        \"trainid\": 5,\n",
    "        \"departure_time\": \"2022-05-05 16:00:00\",\n",
    "        \"arrival_time\": \"2022-05-05 01:00:00\"\n",
    "    }\n",
    "]\n",
    "\n",
    "db.schedules.insert_many(dummy_data)\n"
   ]
  },
  {
   "cell_type": "code",
   "execution_count": 13,
   "id": "623dff5f",
   "metadata": {},
   "outputs": [
    {
     "data": {
      "text/plain": [
       "<pymongo.results.InsertManyResult at 0x7f83e8391e40>"
      ]
     },
     "execution_count": 13,
     "metadata": {},
     "output_type": "execute_result"
    }
   ],
   "source": [
    "# Adding dummy data to the ticket schema\n",
    "ticket_data = [\n",
    "    {\"ticket_id\": 1, \"trainid\": 1234, \"class\": \"Economy\", \"departure_date\": \"2023-05-15\", \"customer_id\": 101},\n",
    "    {\"ticket_id\": 2, \"trainid\": 5678, \"class\": \"First Class\", \"departure_date\": \"2023-06-23\", \"customer_id\": 102},\n",
    "    {\"ticket_id\": 3, \"trainid\": 9012, \"class\": \"Business\", \"departure_date\": \"2023-07-30\", \"customer_id\": 103},\n",
    "    {\"ticket_id\": 4, \"trainid\": 3456, \"class\": \"Economy\", \"departure_date\": \"2023-08-18\", \"customer_id\": 104},\n",
    "    {\"ticket_id\": 5, \"trainid\": 7890, \"class\": \"First Class\", \"departure_date\": \"2023-09-25\", \"customer_id\": 105}\n",
    "]\n",
    "\n",
    "db.tickets.insert_many(ticket_data)\n",
    "\n",
    "# Adding dummy data to the fare schema\n",
    "fare_data = [\n",
    "    {\"fare_id\": 1, \"ticket_id\": 1, \"class\": \"Economy\"},\n",
    "    {\"fare_id\": 2, \"ticket_id\": 2, \"class\": \"First Class\"},\n",
    "    {\"fare_id\": 3, \"ticket_id\": 3, \"class\": \"Business\"},\n",
    "    {\"fare_id\": 4, \"ticket_id\": 4, \"class\": \"Economy\"},\n",
    "    {\"fare_id\": 5, \"ticket_id\": 5, \"class\": \"First Class\"}\n",
    "]\n",
    "\n",
    "db.fares.insert_many(fare_data)\n"
   ]
  },
  {
   "cell_type": "code",
   "execution_count": 18,
   "id": "c60aef3c",
   "metadata": {},
   "outputs": [
    {
     "name": "stdout",
     "output_type": "stream",
     "text": [
      "Query to get all customers who have booked tickets for a particular: <pymongo.cursor.Cursor object at 0x7f840a13a130>\n"
     ]
    }
   ],
   "source": [
    "#Query 1 to get all customers who have booked tickets for a particular train:\n",
    "train_id = 3\n",
    "tickets = db.tickets.find({'trainid': train_id})\n",
    "customer_ids = [ticket['customer_id'] for ticket in tickets]\n",
    "customers = db.customers.find({'customer_id': {'$in': customer_ids}})\n",
    "print(f'Query to get all customers who have booked tickets for a particular: {customers}')\n",
    "\n",
    "#This query retrieves all the tickets booked for a specific train and extracts the customer IDs from the tickets. Then it finds all the customers whose IDs match the extracted IDs.\n"
   ]
  },
  {
   "cell_type": "code",
   "execution_count": 17,
   "id": "0fc93079",
   "metadata": {},
   "outputs": [
    {
     "name": "stdout",
     "output_type": "stream",
     "text": [
      "Total distance covered by train 7: 0 km\n"
     ]
    }
   ],
   "source": [
    "#Query 2 to get the total distance covered by a particular train:\n",
    "train_id = 7\n",
    "routes = db.routes.find({'trainid': train_id})\n",
    "total_distance = sum([route['distance'] for route in routes])\n",
    "print(f'Total distance covered by train {train_id}: {total_distance} km')\n",
    "\n",
    "#This query retrieves all the routes covered by a specific train and calculates the total distance covered by summing up the distance of each route."
   ]
  },
  {
   "cell_type": "code",
   "execution_count": 19,
   "id": "299a69b5",
   "metadata": {},
   "outputs": [
    {
     "name": "stdout",
     "output_type": "stream",
     "text": [
      "Average employee salary: 57142.857142857145\n"
     ]
    }
   ],
   "source": [
    "#Query 3 to get the average salary of employees:\n",
    "avg_salary = db.employees.aggregate([\n",
    "    {\n",
    "        '$group': {\n",
    "            '_id': None,\n",
    "            'avg_salary': {'$avg': '$salary'}\n",
    "        }\n",
    "    }\n",
    "]).next()['avg_salary']\n",
    "\n",
    "print(f'Average employee salary: {avg_salary}')\n",
    "\n",
    "\n",
    "#This query uses the $group aggregation operator to group all employees together and calculate the average salary across all of them.\n"
   ]
  },
  {
   "cell_type": "code",
   "execution_count": 21,
   "id": "d9557d9a",
   "metadata": {},
   "outputs": [
    {
     "name": "stdout",
     "output_type": "stream",
     "text": [
      "{'name': 'Station E', 'location': 'City Y'}\n"
     ]
    }
   ],
   "source": [
    "#Query 4 to get the name and location of all stations on a particular route:\n",
    "route_id = 3\n",
    "stations = db.stations.find({'route_id': route_id}, {'_id': 0, 'name': 1, 'location': 1})\n",
    "for station in stations:\n",
    "    print(station)\n",
    "#This query finds all the stations on a particular route and returns their names and locations."
   ]
  },
  {
   "cell_type": "code",
   "execution_count": 26,
   "id": "2a6778c4",
   "metadata": {},
   "outputs": [
    {
     "name": "stdout",
     "output_type": "stream",
     "text": [
      "Ticket sales for train 5:\n",
      "First Class\n"
     ]
    }
   ],
   "source": [
    "#Query 5 to get the number of tickets sold for each class on a particular train:\n",
    "train_id = 5\n",
    "tickets = db.tickets.find({'trainid': train_id})\n",
    "class_counts = {}\n",
    "for ticket in tickets:\n",
    "    class_ = ticket['class']\n",
    "    if class_ not in class_counts:\n",
    "        class_counts[class_] = 0\n",
    "    class_counts[class_] += 1\n",
    "print(f'Ticket sales for train {train_id}:')\n",
    "for class_, count in class_counts.items():\n",
    "    print(f'{class_}: {count}')\n",
    "    \n",
    "    \n",
    "#This query finds the total number of tickets sold for each class on particular train. \\\n",
    "#This helps determine each class's tickets sold     \n"
   ]
  },
  {
   "cell_type": "code",
   "execution_count": null,
   "id": "88a66a5a",
   "metadata": {},
   "outputs": [],
   "source": []
  }
 ],
 "metadata": {
  "kernelspec": {
   "display_name": "Python 3 (ipykernel)",
   "language": "python",
   "name": "python3"
  },
  "language_info": {
   "codemirror_mode": {
    "name": "ipython",
    "version": 3
   },
   "file_extension": ".py",
   "mimetype": "text/x-python",
   "name": "python",
   "nbconvert_exporter": "python",
   "pygments_lexer": "ipython3",
   "version": "3.9.13"
  }
 },
 "nbformat": 4,
 "nbformat_minor": 5
}
